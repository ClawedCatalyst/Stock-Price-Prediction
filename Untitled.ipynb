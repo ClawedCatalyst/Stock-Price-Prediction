{
 "cells": [
  {
   "cell_type": "code",
   "execution_count": 1,
   "id": "478af174",
   "metadata": {},
   "outputs": [
    {
     "name": "stdout",
     "output_type": "stream",
     "text": [
      "Requirement already satisfied: sklearn in ./venv/lib/python3.10/site-packages (0.0.post1)\n",
      "\n",
      "\u001b[1m[\u001b[0m\u001b[34;49mnotice\u001b[0m\u001b[1;39;49m]\u001b[0m\u001b[39;49m A new release of pip available: \u001b[0m\u001b[31;49m22.3.1\u001b[0m\u001b[39;49m -> \u001b[0m\u001b[32;49m23.0\u001b[0m\n",
      "\u001b[1m[\u001b[0m\u001b[34;49mnotice\u001b[0m\u001b[1;39;49m]\u001b[0m\u001b[39;49m To update, run: \u001b[0m\u001b[32;49mpip install --upgrade pip\u001b[0m\n",
      "Requirement already satisfied: pandas in ./venv/lib/python3.10/site-packages (1.5.3)\n",
      "Requirement already satisfied: pytz>=2020.1 in ./venv/lib/python3.10/site-packages (from pandas) (2022.7.1)\n",
      "Requirement already satisfied: numpy>=1.21.0 in ./venv/lib/python3.10/site-packages (from pandas) (1.24.2)\n",
      "Requirement already satisfied: python-dateutil>=2.8.1 in ./venv/lib/python3.10/site-packages (from pandas) (2.8.2)\n",
      "Requirement already satisfied: six>=1.5 in ./venv/lib/python3.10/site-packages (from python-dateutil>=2.8.1->pandas) (1.16.0)\n",
      "\n",
      "\u001b[1m[\u001b[0m\u001b[34;49mnotice\u001b[0m\u001b[1;39;49m]\u001b[0m\u001b[39;49m A new release of pip available: \u001b[0m\u001b[31;49m22.3.1\u001b[0m\u001b[39;49m -> \u001b[0m\u001b[32;49m23.0\u001b[0m\n",
      "\u001b[1m[\u001b[0m\u001b[34;49mnotice\u001b[0m\u001b[1;39;49m]\u001b[0m\u001b[39;49m To update, run: \u001b[0m\u001b[32;49mpip install --upgrade pip\u001b[0m\n",
      "Requirement already satisfied: numpy in ./venv/lib/python3.10/site-packages (1.24.2)\n",
      "\n",
      "\u001b[1m[\u001b[0m\u001b[34;49mnotice\u001b[0m\u001b[1;39;49m]\u001b[0m\u001b[39;49m A new release of pip available: \u001b[0m\u001b[31;49m22.3.1\u001b[0m\u001b[39;49m -> \u001b[0m\u001b[32;49m23.0\u001b[0m\n",
      "\u001b[1m[\u001b[0m\u001b[34;49mnotice\u001b[0m\u001b[1;39;49m]\u001b[0m\u001b[39;49m To update, run: \u001b[0m\u001b[32;49mpip install --upgrade pip\u001b[0m\n"
     ]
    }
   ],
   "source": [
    "!pip install sklearn\n",
    "!pip install pandas\n",
    "!pip install numpy"
   ]
  },
  {
   "cell_type": "code",
   "execution_count": 2,
   "id": "2791b1de",
   "metadata": {},
   "outputs": [],
   "source": [
    "import pandas as pd\n",
    "import quandl as qd\n",
    "import math\n",
    "import numpy as np"
   ]
  },
  {
   "cell_type": "code",
   "execution_count": 3,
   "id": "17dd8a8d",
   "metadata": {},
   "outputs": [
    {
     "data": {
      "text/html": [
       "<div>\n",
       "<style scoped>\n",
       "    .dataframe tbody tr th:only-of-type {\n",
       "        vertical-align: middle;\n",
       "    }\n",
       "\n",
       "    .dataframe tbody tr th {\n",
       "        vertical-align: top;\n",
       "    }\n",
       "\n",
       "    .dataframe thead th {\n",
       "        text-align: right;\n",
       "    }\n",
       "</style>\n",
       "<table border=\"1\" class=\"dataframe\">\n",
       "  <thead>\n",
       "    <tr style=\"text-align: right;\">\n",
       "      <th></th>\n",
       "      <th>Date</th>\n",
       "      <th>Open Price</th>\n",
       "      <th>High Price</th>\n",
       "      <th>Low Price</th>\n",
       "      <th>Close Price</th>\n",
       "      <th>WAP</th>\n",
       "      <th>No.of Shares</th>\n",
       "      <th>No. of Trades</th>\n",
       "      <th>Total Turnover (Rs.)</th>\n",
       "      <th>Deliverable Quantity</th>\n",
       "      <th>% Deli. Qty to Traded Qty</th>\n",
       "      <th>Spread High-Low</th>\n",
       "      <th>Spread Close-Open</th>\n",
       "    </tr>\n",
       "  </thead>\n",
       "  <tbody>\n",
       "    <tr>\n",
       "      <th>0</th>\n",
       "      <td>21-April-2022</td>\n",
       "      <td>18150.00</td>\n",
       "      <td>18572.95</td>\n",
       "      <td>17772.90</td>\n",
       "      <td>18205.80</td>\n",
       "      <td>18130.183442</td>\n",
       "      <td>4590</td>\n",
       "      <td>1770</td>\n",
       "      <td>83217542.0</td>\n",
       "      <td>950.0</td>\n",
       "      <td>20.70</td>\n",
       "      <td>800.05</td>\n",
       "      <td>55.80</td>\n",
       "    </tr>\n",
       "    <tr>\n",
       "      <th>1</th>\n",
       "      <td>20-April-2022</td>\n",
       "      <td>18100.10</td>\n",
       "      <td>18415.00</td>\n",
       "      <td>18017.15</td>\n",
       "      <td>18313.70</td>\n",
       "      <td>18295.559071</td>\n",
       "      <td>6069</td>\n",
       "      <td>1321</td>\n",
       "      <td>111035748.0</td>\n",
       "      <td>4677.0</td>\n",
       "      <td>77.06</td>\n",
       "      <td>397.85</td>\n",
       "      <td>213.60</td>\n",
       "    </tr>\n",
       "    <tr>\n",
       "      <th>2</th>\n",
       "      <td>19-April-2022</td>\n",
       "      <td>18470.05</td>\n",
       "      <td>18718.00</td>\n",
       "      <td>17845.60</td>\n",
       "      <td>17943.15</td>\n",
       "      <td>18355.093320</td>\n",
       "      <td>2904</td>\n",
       "      <td>716</td>\n",
       "      <td>53303191.0</td>\n",
       "      <td>1619.0</td>\n",
       "      <td>55.75</td>\n",
       "      <td>872.40</td>\n",
       "      <td>-526.90</td>\n",
       "    </tr>\n",
       "    <tr>\n",
       "      <th>3</th>\n",
       "      <td>18-April-2022</td>\n",
       "      <td>18294.50</td>\n",
       "      <td>18684.50</td>\n",
       "      <td>18294.50</td>\n",
       "      <td>18549.85</td>\n",
       "      <td>18511.224599</td>\n",
       "      <td>1496</td>\n",
       "      <td>586</td>\n",
       "      <td>27692792.0</td>\n",
       "      <td>557.0</td>\n",
       "      <td>37.23</td>\n",
       "      <td>390.00</td>\n",
       "      <td>255.35</td>\n",
       "    </tr>\n",
       "    <tr>\n",
       "      <th>4</th>\n",
       "      <td>13-April-2022</td>\n",
       "      <td>18371.20</td>\n",
       "      <td>18549.30</td>\n",
       "      <td>18248.25</td>\n",
       "      <td>18343.90</td>\n",
       "      <td>18388.967826</td>\n",
       "      <td>1150</td>\n",
       "      <td>550</td>\n",
       "      <td>21147313.0</td>\n",
       "      <td>573.0</td>\n",
       "      <td>49.83</td>\n",
       "      <td>301.05</td>\n",
       "      <td>-27.30</td>\n",
       "    </tr>\n",
       "  </tbody>\n",
       "</table>\n",
       "</div>"
      ],
      "text/plain": [
       "            Date  Open Price  High Price  Low Price  Close Price  \\\n",
       "0  21-April-2022    18150.00    18572.95   17772.90     18205.80   \n",
       "1  20-April-2022    18100.10    18415.00   18017.15     18313.70   \n",
       "2  19-April-2022    18470.05    18718.00   17845.60     17943.15   \n",
       "3  18-April-2022    18294.50    18684.50   18294.50     18549.85   \n",
       "4  13-April-2022    18371.20    18549.30   18248.25     18343.90   \n",
       "\n",
       "            WAP  No.of Shares  No. of Trades  Total Turnover (Rs.)  \\\n",
       "0  18130.183442          4590           1770            83217542.0   \n",
       "1  18295.559071          6069           1321           111035748.0   \n",
       "2  18355.093320          2904            716            53303191.0   \n",
       "3  18511.224599          1496            586            27692792.0   \n",
       "4  18388.967826          1150            550            21147313.0   \n",
       "\n",
       "   Deliverable Quantity  % Deli. Qty to Traded Qty  Spread High-Low  \\\n",
       "0                 950.0                      20.70           800.05   \n",
       "1                4677.0                      77.06           397.85   \n",
       "2                1619.0                      55.75           872.40   \n",
       "3                 557.0                      37.23           390.00   \n",
       "4                 573.0                      49.83           301.05   \n",
       "\n",
       "   Spread Close-Open  \n",
       "0              55.80  \n",
       "1             213.60  \n",
       "2            -526.90  \n",
       "3             255.35  \n",
       "4             -27.30  "
      ]
     },
     "execution_count": 3,
     "metadata": {},
     "output_type": "execute_result"
    }
   ],
   "source": [
    "df = pd.read_csv('nestle.csv')\n",
    "df.head()"
   ]
  },
  {
   "cell_type": "code",
   "execution_count": 4,
   "id": "afb4c226",
   "metadata": {},
   "outputs": [
    {
     "name": "stdout",
     "output_type": "stream",
     "text": [
      "<class 'pandas.core.frame.DataFrame'>\n",
      "RangeIndex: 2553 entries, 0 to 2552\n",
      "Data columns (total 13 columns):\n",
      " #   Column                     Non-Null Count  Dtype  \n",
      "---  ------                     --------------  -----  \n",
      " 0   Date                       2553 non-null   object \n",
      " 1   Open Price                 2553 non-null   float64\n",
      " 2   High Price                 2553 non-null   float64\n",
      " 3   Low Price                  2553 non-null   float64\n",
      " 4   Close Price                2553 non-null   float64\n",
      " 5   WAP                        2553 non-null   float64\n",
      " 6   No.of Shares               2553 non-null   int64  \n",
      " 7   No. of Trades              2553 non-null   int64  \n",
      " 8   Total Turnover (Rs.)       2553 non-null   float64\n",
      " 9   Deliverable Quantity       2551 non-null   float64\n",
      " 10  % Deli. Qty to Traded Qty  2551 non-null   float64\n",
      " 11  Spread High-Low            2553 non-null   float64\n",
      " 12  Spread Close-Open          2553 non-null   float64\n",
      "dtypes: float64(10), int64(2), object(1)\n",
      "memory usage: 259.4+ KB\n"
     ]
    }
   ],
   "source": [
    "df.info()"
   ]
  },
  {
   "cell_type": "code",
   "execution_count": 5,
   "id": "3ac785a6",
   "metadata": {},
   "outputs": [],
   "source": [
    "df.fillna(-99999, inplace=True)"
   ]
  },
  {
   "cell_type": "code",
   "execution_count": 6,
   "id": "2a3097fb",
   "metadata": {},
   "outputs": [],
   "source": [
    "df['HL_PCT'] = (df['High Price'] - df['Close Price'])/df['Close Price'] * 100.0\n",
    "df['PCT_CHANGE'] = (df['Close Price'] - df['Open Price'])/df['Open Price'] * 100.0\n",
    "df.drop(['Date','No.of Shares','No. of Trades','Total Turnover (Rs.)','Deliverable Quantity','% Deli. Qty to Traded Qty','Spread High-Low','Spread Close-Open'],axis=1,inplace=True)"
   ]
  },
  {
   "cell_type": "code",
   "execution_count": 7,
   "id": "f5d02294",
   "metadata": {},
   "outputs": [
    {
     "data": {
      "text/html": [
       "<div>\n",
       "<style scoped>\n",
       "    .dataframe tbody tr th:only-of-type {\n",
       "        vertical-align: middle;\n",
       "    }\n",
       "\n",
       "    .dataframe tbody tr th {\n",
       "        vertical-align: top;\n",
       "    }\n",
       "\n",
       "    .dataframe thead th {\n",
       "        text-align: right;\n",
       "    }\n",
       "</style>\n",
       "<table border=\"1\" class=\"dataframe\">\n",
       "  <thead>\n",
       "    <tr style=\"text-align: right;\">\n",
       "      <th></th>\n",
       "      <th>Open Price</th>\n",
       "      <th>High Price</th>\n",
       "      <th>Low Price</th>\n",
       "      <th>Close Price</th>\n",
       "      <th>WAP</th>\n",
       "      <th>HL_PCT</th>\n",
       "      <th>PCT_CHANGE</th>\n",
       "    </tr>\n",
       "  </thead>\n",
       "  <tbody>\n",
       "    <tr>\n",
       "      <th>0</th>\n",
       "      <td>18150.00</td>\n",
       "      <td>18572.95</td>\n",
       "      <td>17772.90</td>\n",
       "      <td>18205.80</td>\n",
       "      <td>18130.183442</td>\n",
       "      <td>2.016665</td>\n",
       "      <td>0.307438</td>\n",
       "    </tr>\n",
       "    <tr>\n",
       "      <th>1</th>\n",
       "      <td>18100.10</td>\n",
       "      <td>18415.00</td>\n",
       "      <td>18017.15</td>\n",
       "      <td>18313.70</td>\n",
       "      <td>18295.559071</td>\n",
       "      <td>0.553138</td>\n",
       "      <td>1.180104</td>\n",
       "    </tr>\n",
       "    <tr>\n",
       "      <th>2</th>\n",
       "      <td>18470.05</td>\n",
       "      <td>18718.00</td>\n",
       "      <td>17845.60</td>\n",
       "      <td>17943.15</td>\n",
       "      <td>18355.093320</td>\n",
       "      <td>4.318361</td>\n",
       "      <td>-2.852726</td>\n",
       "    </tr>\n",
       "    <tr>\n",
       "      <th>3</th>\n",
       "      <td>18294.50</td>\n",
       "      <td>18684.50</td>\n",
       "      <td>18294.50</td>\n",
       "      <td>18549.85</td>\n",
       "      <td>18511.224599</td>\n",
       "      <td>0.725882</td>\n",
       "      <td>1.395775</td>\n",
       "    </tr>\n",
       "    <tr>\n",
       "      <th>4</th>\n",
       "      <td>18371.20</td>\n",
       "      <td>18549.30</td>\n",
       "      <td>18248.25</td>\n",
       "      <td>18343.90</td>\n",
       "      <td>18388.967826</td>\n",
       "      <td>1.119718</td>\n",
       "      <td>-0.148602</td>\n",
       "    </tr>\n",
       "  </tbody>\n",
       "</table>\n",
       "</div>"
      ],
      "text/plain": [
       "   Open Price  High Price  Low Price  Close Price           WAP    HL_PCT  \\\n",
       "0    18150.00    18572.95   17772.90     18205.80  18130.183442  2.016665   \n",
       "1    18100.10    18415.00   18017.15     18313.70  18295.559071  0.553138   \n",
       "2    18470.05    18718.00   17845.60     17943.15  18355.093320  4.318361   \n",
       "3    18294.50    18684.50   18294.50     18549.85  18511.224599  0.725882   \n",
       "4    18371.20    18549.30   18248.25     18343.90  18388.967826  1.119718   \n",
       "\n",
       "   PCT_CHANGE  \n",
       "0    0.307438  \n",
       "1    1.180104  \n",
       "2   -2.852726  \n",
       "3    1.395775  \n",
       "4   -0.148602  "
      ]
     },
     "execution_count": 7,
     "metadata": {},
     "output_type": "execute_result"
    }
   ],
   "source": [
    "df.head()"
   ]
  },
  {
   "cell_type": "code",
   "execution_count": 8,
   "id": "1f3009e1",
   "metadata": {},
   "outputs": [],
   "source": [
    "forecast_out = int(math.ceil(0.01*len(df)))"
   ]
  },
  {
   "cell_type": "code",
   "execution_count": 9,
   "id": "f284d5e4",
   "metadata": {},
   "outputs": [
    {
     "data": {
      "text/html": [
       "<div>\n",
       "<style scoped>\n",
       "    .dataframe tbody tr th:only-of-type {\n",
       "        vertical-align: middle;\n",
       "    }\n",
       "\n",
       "    .dataframe tbody tr th {\n",
       "        vertical-align: top;\n",
       "    }\n",
       "\n",
       "    .dataframe thead th {\n",
       "        text-align: right;\n",
       "    }\n",
       "</style>\n",
       "<table border=\"1\" class=\"dataframe\">\n",
       "  <thead>\n",
       "    <tr style=\"text-align: right;\">\n",
       "      <th></th>\n",
       "      <th>Open Price</th>\n",
       "      <th>High Price</th>\n",
       "      <th>Low Price</th>\n",
       "      <th>Close Price</th>\n",
       "      <th>WAP</th>\n",
       "      <th>HL_PCT</th>\n",
       "      <th>PCT_CHANGE</th>\n",
       "      <th>label</th>\n",
       "    </tr>\n",
       "  </thead>\n",
       "  <tbody>\n",
       "    <tr>\n",
       "      <th>0</th>\n",
       "      <td>18150.00</td>\n",
       "      <td>18572.95</td>\n",
       "      <td>17772.90</td>\n",
       "      <td>18205.80</td>\n",
       "      <td>18130.183442</td>\n",
       "      <td>2.016665</td>\n",
       "      <td>0.307438</td>\n",
       "      <td>17322.80</td>\n",
       "    </tr>\n",
       "    <tr>\n",
       "      <th>1</th>\n",
       "      <td>18100.10</td>\n",
       "      <td>18415.00</td>\n",
       "      <td>18017.15</td>\n",
       "      <td>18313.70</td>\n",
       "      <td>18295.559071</td>\n",
       "      <td>0.553138</td>\n",
       "      <td>1.180104</td>\n",
       "      <td>17633.95</td>\n",
       "    </tr>\n",
       "    <tr>\n",
       "      <th>2</th>\n",
       "      <td>18470.05</td>\n",
       "      <td>18718.00</td>\n",
       "      <td>17845.60</td>\n",
       "      <td>17943.15</td>\n",
       "      <td>18355.093320</td>\n",
       "      <td>4.318361</td>\n",
       "      <td>-2.852726</td>\n",
       "      <td>17147.35</td>\n",
       "    </tr>\n",
       "    <tr>\n",
       "      <th>3</th>\n",
       "      <td>18294.50</td>\n",
       "      <td>18684.50</td>\n",
       "      <td>18294.50</td>\n",
       "      <td>18549.85</td>\n",
       "      <td>18511.224599</td>\n",
       "      <td>0.725882</td>\n",
       "      <td>1.395775</td>\n",
       "      <td>17299.70</td>\n",
       "    </tr>\n",
       "    <tr>\n",
       "      <th>4</th>\n",
       "      <td>18371.20</td>\n",
       "      <td>18549.30</td>\n",
       "      <td>18248.25</td>\n",
       "      <td>18343.90</td>\n",
       "      <td>18388.967826</td>\n",
       "      <td>1.119718</td>\n",
       "      <td>-0.148602</td>\n",
       "      <td>17342.50</td>\n",
       "    </tr>\n",
       "  </tbody>\n",
       "</table>\n",
       "</div>"
      ],
      "text/plain": [
       "   Open Price  High Price  Low Price  Close Price           WAP    HL_PCT  \\\n",
       "0    18150.00    18572.95   17772.90     18205.80  18130.183442  2.016665   \n",
       "1    18100.10    18415.00   18017.15     18313.70  18295.559071  0.553138   \n",
       "2    18470.05    18718.00   17845.60     17943.15  18355.093320  4.318361   \n",
       "3    18294.50    18684.50   18294.50     18549.85  18511.224599  0.725882   \n",
       "4    18371.20    18549.30   18248.25     18343.90  18388.967826  1.119718   \n",
       "\n",
       "   PCT_CHANGE     label  \n",
       "0    0.307438  17322.80  \n",
       "1    1.180104  17633.95  \n",
       "2   -2.852726  17147.35  \n",
       "3    1.395775  17299.70  \n",
       "4   -0.148602  17342.50  "
      ]
     },
     "execution_count": 9,
     "metadata": {},
     "output_type": "execute_result"
    }
   ],
   "source": [
    "df['label'] = df['Close Price'].shift(-forecast_out)\n",
    "df.head()"
   ]
  },
  {
   "cell_type": "code",
   "execution_count": 10,
   "id": "f14ca5d1",
   "metadata": {},
   "outputs": [],
   "source": [
    "df.dropna(inplace=True)"
   ]
  },
  {
   "cell_type": "code",
   "execution_count": 11,
   "id": "a5fdfb5c",
   "metadata": {},
   "outputs": [],
   "source": [
    "from sklearn import preprocessing, svm\n",
    "from sklearn.model_selection import train_test_split\n",
    "from sklearn.linear_model import LinearRegression"
   ]
  },
  {
   "cell_type": "code",
   "execution_count": 12,
   "id": "cf902c7a",
   "metadata": {},
   "outputs": [
    {
     "name": "stderr",
     "output_type": "stream",
     "text": [
      "/var/folders/vt/qzp076cj5jn64mlyw3l52qp40000gn/T/ipykernel_18516/3153512655.py:1: FutureWarning: In a future version of pandas all arguments of DataFrame.drop except for the argument 'labels' will be keyword-only.\n",
      "  X = np.array(df.drop(['label'],1))\n"
     ]
    }
   ],
   "source": [
    "X = np.array(df.drop(['label'],1))\n",
    "y = np.array(df['label'])"
   ]
  },
  {
   "cell_type": "code",
   "execution_count": 13,
   "id": "f53cff5f",
   "metadata": {},
   "outputs": [],
   "source": [
    "X_train, X_test, y_train , y_test = train_test_split(X, y, test_size=0.2)"
   ]
  },
  {
   "cell_type": "code",
   "execution_count": 14,
   "id": "4ea13ab7",
   "metadata": {},
   "outputs": [
    {
     "data": {
      "text/html": [
       "<style>#sk-container-id-1 {color: black;background-color: white;}#sk-container-id-1 pre{padding: 0;}#sk-container-id-1 div.sk-toggleable {background-color: white;}#sk-container-id-1 label.sk-toggleable__label {cursor: pointer;display: block;width: 100%;margin-bottom: 0;padding: 0.3em;box-sizing: border-box;text-align: center;}#sk-container-id-1 label.sk-toggleable__label-arrow:before {content: \"▸\";float: left;margin-right: 0.25em;color: #696969;}#sk-container-id-1 label.sk-toggleable__label-arrow:hover:before {color: black;}#sk-container-id-1 div.sk-estimator:hover label.sk-toggleable__label-arrow:before {color: black;}#sk-container-id-1 div.sk-toggleable__content {max-height: 0;max-width: 0;overflow: hidden;text-align: left;background-color: #f0f8ff;}#sk-container-id-1 div.sk-toggleable__content pre {margin: 0.2em;color: black;border-radius: 0.25em;background-color: #f0f8ff;}#sk-container-id-1 input.sk-toggleable__control:checked~div.sk-toggleable__content {max-height: 200px;max-width: 100%;overflow: auto;}#sk-container-id-1 input.sk-toggleable__control:checked~label.sk-toggleable__label-arrow:before {content: \"▾\";}#sk-container-id-1 div.sk-estimator input.sk-toggleable__control:checked~label.sk-toggleable__label {background-color: #d4ebff;}#sk-container-id-1 div.sk-label input.sk-toggleable__control:checked~label.sk-toggleable__label {background-color: #d4ebff;}#sk-container-id-1 input.sk-hidden--visually {border: 0;clip: rect(1px 1px 1px 1px);clip: rect(1px, 1px, 1px, 1px);height: 1px;margin: -1px;overflow: hidden;padding: 0;position: absolute;width: 1px;}#sk-container-id-1 div.sk-estimator {font-family: monospace;background-color: #f0f8ff;border: 1px dotted black;border-radius: 0.25em;box-sizing: border-box;margin-bottom: 0.5em;}#sk-container-id-1 div.sk-estimator:hover {background-color: #d4ebff;}#sk-container-id-1 div.sk-parallel-item::after {content: \"\";width: 100%;border-bottom: 1px solid gray;flex-grow: 1;}#sk-container-id-1 div.sk-label:hover label.sk-toggleable__label {background-color: #d4ebff;}#sk-container-id-1 div.sk-serial::before {content: \"\";position: absolute;border-left: 1px solid gray;box-sizing: border-box;top: 0;bottom: 0;left: 50%;z-index: 0;}#sk-container-id-1 div.sk-serial {display: flex;flex-direction: column;align-items: center;background-color: white;padding-right: 0.2em;padding-left: 0.2em;position: relative;}#sk-container-id-1 div.sk-item {position: relative;z-index: 1;}#sk-container-id-1 div.sk-parallel {display: flex;align-items: stretch;justify-content: center;background-color: white;position: relative;}#sk-container-id-1 div.sk-item::before, #sk-container-id-1 div.sk-parallel-item::before {content: \"\";position: absolute;border-left: 1px solid gray;box-sizing: border-box;top: 0;bottom: 0;left: 50%;z-index: -1;}#sk-container-id-1 div.sk-parallel-item {display: flex;flex-direction: column;z-index: 1;position: relative;background-color: white;}#sk-container-id-1 div.sk-parallel-item:first-child::after {align-self: flex-end;width: 50%;}#sk-container-id-1 div.sk-parallel-item:last-child::after {align-self: flex-start;width: 50%;}#sk-container-id-1 div.sk-parallel-item:only-child::after {width: 0;}#sk-container-id-1 div.sk-dashed-wrapped {border: 1px dashed gray;margin: 0 0.4em 0.5em 0.4em;box-sizing: border-box;padding-bottom: 0.4em;background-color: white;}#sk-container-id-1 div.sk-label label {font-family: monospace;font-weight: bold;display: inline-block;line-height: 1.2em;}#sk-container-id-1 div.sk-label-container {text-align: center;}#sk-container-id-1 div.sk-container {/* jupyter's `normalize.less` sets `[hidden] { display: none; }` but bootstrap.min.css set `[hidden] { display: none !important; }` so we also need the `!important` here to be able to override the default hidden behavior on the sphinx rendered scikit-learn.org. See: https://github.com/scikit-learn/scikit-learn/issues/21755 */display: inline-block !important;position: relative;}#sk-container-id-1 div.sk-text-repr-fallback {display: none;}</style><div id=\"sk-container-id-1\" class=\"sk-top-container\"><div class=\"sk-text-repr-fallback\"><pre>LinearRegression()</pre><b>In a Jupyter environment, please rerun this cell to show the HTML representation or trust the notebook. <br />On GitHub, the HTML representation is unable to render, please try loading this page with nbviewer.org.</b></div><div class=\"sk-container\" hidden><div class=\"sk-item\"><div class=\"sk-estimator sk-toggleable\"><input class=\"sk-toggleable__control sk-hidden--visually\" id=\"sk-estimator-id-1\" type=\"checkbox\" checked><label for=\"sk-estimator-id-1\" class=\"sk-toggleable__label sk-toggleable__label-arrow\">LinearRegression</label><div class=\"sk-toggleable__content\"><pre>LinearRegression()</pre></div></div></div></div></div>"
      ],
      "text/plain": [
       "LinearRegression()"
      ]
     },
     "execution_count": 14,
     "metadata": {},
     "output_type": "execute_result"
    }
   ],
   "source": [
    "lf = LinearRegression()\n",
    "lf.fit(X_train, y_train)"
   ]
  },
  {
   "cell_type": "code",
   "execution_count": null,
   "id": "827772ec",
   "metadata": {},
   "outputs": [],
   "source": [
    "lf.score(X_test, y_test)"
   ]
  }
 ],
 "metadata": {
  "kernelspec": {
   "display_name": "venv",
   "language": "python",
   "name": "venv"
  },
  "language_info": {
   "codemirror_mode": {
    "name": "ipython",
    "version": 3
   },
   "file_extension": ".py",
   "mimetype": "text/x-python",
   "name": "python",
   "nbconvert_exporter": "python",
   "pygments_lexer": "ipython3",
   "version": "3.10.6"
  }
 },
 "nbformat": 4,
 "nbformat_minor": 5
}
