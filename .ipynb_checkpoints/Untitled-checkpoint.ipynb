{
 "cells": [
  {
   "cell_type": "code",
   "execution_count": 1,
   "id": "478af174",
   "metadata": {},
   "outputs": [
    {
     "name": "stdout",
     "output_type": "stream",
     "text": [
      "Requirement already satisfied: sklearn in ./venv/lib/python3.10/site-packages (0.0.post1)\n",
      "\n",
      "\u001b[1m[\u001b[0m\u001b[34;49mnotice\u001b[0m\u001b[1;39;49m]\u001b[0m\u001b[39;49m A new release of pip available: \u001b[0m\u001b[31;49m22.3.1\u001b[0m\u001b[39;49m -> \u001b[0m\u001b[32;49m23.0\u001b[0m\n",
      "\u001b[1m[\u001b[0m\u001b[34;49mnotice\u001b[0m\u001b[1;39;49m]\u001b[0m\u001b[39;49m To update, run: \u001b[0m\u001b[32;49mpip install --upgrade pip\u001b[0m\n",
      "Requirement already satisfied: quandl in ./venv/lib/python3.10/site-packages (3.7.0)\n",
      "Requirement already satisfied: requests>=2.7.0 in ./venv/lib/python3.10/site-packages (from quandl) (2.28.2)\n",
      "Requirement already satisfied: six in ./venv/lib/python3.10/site-packages (from quandl) (1.16.0)\n",
      "Requirement already satisfied: inflection>=0.3.1 in ./venv/lib/python3.10/site-packages (from quandl) (0.5.1)\n",
      "Requirement already satisfied: numpy>=1.8 in ./venv/lib/python3.10/site-packages (from quandl) (1.24.2)\n",
      "Requirement already satisfied: python-dateutil in ./venv/lib/python3.10/site-packages (from quandl) (2.8.2)\n",
      "Requirement already satisfied: pandas>=0.14 in ./venv/lib/python3.10/site-packages (from quandl) (1.5.3)\n",
      "Requirement already satisfied: more-itertools in ./venv/lib/python3.10/site-packages (from quandl) (9.0.0)\n",
      "Requirement already satisfied: pytz>=2020.1 in ./venv/lib/python3.10/site-packages (from pandas>=0.14->quandl) (2022.7.1)\n",
      "Requirement already satisfied: idna<4,>=2.5 in ./venv/lib/python3.10/site-packages (from requests>=2.7.0->quandl) (3.4)\n",
      "Requirement already satisfied: urllib3<1.27,>=1.21.1 in ./venv/lib/python3.10/site-packages (from requests>=2.7.0->quandl) (1.26.14)\n",
      "Requirement already satisfied: certifi>=2017.4.17 in ./venv/lib/python3.10/site-packages (from requests>=2.7.0->quandl) (2022.12.7)\n",
      "Requirement already satisfied: charset-normalizer<4,>=2 in ./venv/lib/python3.10/site-packages (from requests>=2.7.0->quandl) (3.0.1)\n",
      "\n",
      "\u001b[1m[\u001b[0m\u001b[34;49mnotice\u001b[0m\u001b[1;39;49m]\u001b[0m\u001b[39;49m A new release of pip available: \u001b[0m\u001b[31;49m22.3.1\u001b[0m\u001b[39;49m -> \u001b[0m\u001b[32;49m23.0\u001b[0m\n",
      "\u001b[1m[\u001b[0m\u001b[34;49mnotice\u001b[0m\u001b[1;39;49m]\u001b[0m\u001b[39;49m To update, run: \u001b[0m\u001b[32;49mpip install --upgrade pip\u001b[0m\n",
      "Requirement already satisfied: pandas in ./venv/lib/python3.10/site-packages (1.5.3)\n",
      "Requirement already satisfied: python-dateutil>=2.8.1 in ./venv/lib/python3.10/site-packages (from pandas) (2.8.2)\n",
      "Requirement already satisfied: pytz>=2020.1 in ./venv/lib/python3.10/site-packages (from pandas) (2022.7.1)\n",
      "Requirement already satisfied: numpy>=1.21.0 in ./venv/lib/python3.10/site-packages (from pandas) (1.24.2)\n",
      "Requirement already satisfied: six>=1.5 in ./venv/lib/python3.10/site-packages (from python-dateutil>=2.8.1->pandas) (1.16.0)\n",
      "\n",
      "\u001b[1m[\u001b[0m\u001b[34;49mnotice\u001b[0m\u001b[1;39;49m]\u001b[0m\u001b[39;49m A new release of pip available: \u001b[0m\u001b[31;49m22.3.1\u001b[0m\u001b[39;49m -> \u001b[0m\u001b[32;49m23.0\u001b[0m\n",
      "\u001b[1m[\u001b[0m\u001b[34;49mnotice\u001b[0m\u001b[1;39;49m]\u001b[0m\u001b[39;49m To update, run: \u001b[0m\u001b[32;49mpip install --upgrade pip\u001b[0m\n"
     ]
    }
   ],
   "source": [
    "!pip install sklearn\n",
    "!pip3 install quandl\n",
    "!pip install pandas"
   ]
  },
  {
   "cell_type": "code",
   "execution_count": 2,
   "id": "4d0bd6f2",
   "metadata": {},
   "outputs": [
    {
     "name": "stdout",
     "output_type": "stream",
     "text": [
      "Requirement already satisfied: quandl in /Users/suhailahmad/Documents/objectDetection/venv/lib/python3.10/site-packages (3.7.0)\n",
      "Requirement already satisfied: six in /Users/suhailahmad/Documents/objectDetection/venv/lib/python3.10/site-packages (from quandl) (1.16.0)\n",
      "Requirement already satisfied: python-dateutil in /Users/suhailahmad/Documents/objectDetection/venv/lib/python3.10/site-packages (from quandl) (2.8.2)\n",
      "Requirement already satisfied: more-itertools in /Users/suhailahmad/Documents/objectDetection/venv/lib/python3.10/site-packages (from quandl) (9.0.0)\n",
      "Requirement already satisfied: numpy>=1.8 in /Users/suhailahmad/Documents/objectDetection/venv/lib/python3.10/site-packages (from quandl) (1.24.1)\n",
      "Requirement already satisfied: pandas>=0.14 in /Users/suhailahmad/Documents/objectDetection/venv/lib/python3.10/site-packages (from quandl) (1.5.3)\n",
      "Requirement already satisfied: inflection>=0.3.1 in /Users/suhailahmad/Documents/objectDetection/venv/lib/python3.10/site-packages (from quandl) (0.5.1)\n",
      "Requirement already satisfied: requests>=2.7.0 in /Users/suhailahmad/Documents/objectDetection/venv/lib/python3.10/site-packages (from quandl) (2.28.1)\n",
      "Requirement already satisfied: pytz>=2020.1 in /Users/suhailahmad/Documents/objectDetection/venv/lib/python3.10/site-packages (from pandas>=0.14->quandl) (2022.7.1)\n",
      "Requirement already satisfied: urllib3<1.27,>=1.21.1 in /Users/suhailahmad/Documents/objectDetection/venv/lib/python3.10/site-packages (from requests>=2.7.0->quandl) (1.26.13)\n",
      "Requirement already satisfied: charset-normalizer<3,>=2 in /Users/suhailahmad/Documents/objectDetection/venv/lib/python3.10/site-packages (from requests>=2.7.0->quandl) (2.1.1)\n",
      "Requirement already satisfied: certifi>=2017.4.17 in /Users/suhailahmad/Documents/objectDetection/venv/lib/python3.10/site-packages (from requests>=2.7.0->quandl) (2022.12.7)\n",
      "Requirement already satisfied: idna<4,>=2.5 in /Users/suhailahmad/Documents/objectDetection/venv/lib/python3.10/site-packages (from requests>=2.7.0->quandl) (3.4)\n",
      "\n",
      "\u001b[1m[\u001b[0m\u001b[34;49mnotice\u001b[0m\u001b[1;39;49m]\u001b[0m\u001b[39;49m A new release of pip available: \u001b[0m\u001b[31;49m22.3.1\u001b[0m\u001b[39;49m -> \u001b[0m\u001b[32;49m23.0\u001b[0m\n",
      "\u001b[1m[\u001b[0m\u001b[34;49mnotice\u001b[0m\u001b[1;39;49m]\u001b[0m\u001b[39;49m To update, run: \u001b[0m\u001b[32;49mpython -m pip install --upgrade pip\u001b[0m\n"
     ]
    }
   ],
   "source": [
    "import sys\n",
    "!{sys.executable} -m pip install quandl"
   ]
  },
  {
   "cell_type": "code",
   "execution_count": 3,
   "id": "2791b1de",
   "metadata": {},
   "outputs": [],
   "source": [
    "import pandas as pd\n",
    "import quandl as qd"
   ]
  },
  {
   "cell_type": "code",
   "execution_count": 4,
   "id": "17dd8a8d",
   "metadata": {},
   "outputs": [],
   "source": [
    "df = pd.read_csv('CSVForDate(1).csv')\n",
    "df.head()"
   ]
  },
  {
   "cell_type": "code",
   "execution_count": 5,
   "id": "afb4c226",
   "metadata": {},
   "outputs": [
    {
     "name": "stdout",
     "output_type": "stream",
     "text": [
      "<class 'pandas.core.frame.DataFrame'>\n",
      "Index: 1401 entries, 1-January-2015 to 31-August-2020\n",
      "Data columns (total 5 columns):\n",
      " #   Column  Non-Null Count  Dtype  \n",
      "---  ------  --------------  -----  \n",
      " 0   Date    1401 non-null   float64\n",
      " 1   Open    1401 non-null   float64\n",
      " 2   High    1401 non-null   float64\n",
      " 3   Low     1401 non-null   float64\n",
      " 4   Close   0 non-null      float64\n",
      "dtypes: float64(5)\n",
      "memory usage: 65.7+ KB\n"
     ]
    }
   ],
   "source": [
    "df.info()"
   ]
  },
  {
   "cell_type": "code",
   "execution_count": null,
   "id": "07794abd",
   "metadata": {},
   "outputs": [],
   "source": []
  }
 ],
 "metadata": {
  "kernelspec": {
   "display_name": "venv",
   "language": "python",
   "name": "venv"
  },
  "language_info": {
   "codemirror_mode": {
    "name": "ipython",
    "version": 3
   },
   "file_extension": ".py",
   "mimetype": "text/x-python",
   "name": "python",
   "nbconvert_exporter": "python",
   "pygments_lexer": "ipython3",
   "version": "3.10.6"
  }
 },
 "nbformat": 4,
 "nbformat_minor": 5
}
